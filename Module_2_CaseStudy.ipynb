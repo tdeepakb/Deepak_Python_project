{
  "nbformat": 4,
  "nbformat_minor": 0,
  "metadata": {
    "colab": {
      "provenance": [],
      "authorship_tag": "ABX9TyNKv2AygJ4/cVld3Qk4AQ6x",
      "include_colab_link": true
    },
    "kernelspec": {
      "name": "python3",
      "display_name": "Python 3"
    },
    "language_info": {
      "name": "python"
    }
  },
  "cells": [
    {
      "cell_type": "markdown",
      "metadata": {
        "id": "view-in-github",
        "colab_type": "text"
      },
      "source": [
        "<a href=\"https://colab.research.google.com/github/tdeepakb/Deepak_Python_project/blob/master/Module_2_CaseStudy.ipynb\" target=\"_parent\"><img src=\"https://colab.research.google.com/assets/colab-badge.svg\" alt=\"Open In Colab\"/></a>"
      ]
    },
    {
      "cell_type": "markdown",
      "source": [
        "Case Study:- 1"
      ],
      "metadata": {
        "id": "9pMIyB7k7Bys"
      }
    },
    {
      "cell_type": "markdown",
      "source": [
        "1. Create a class named Employee, with a constructor ‘__init__’ method that\n",
        "accepts name and salary as parameters and set properties named name\n",
        "and salary.\n",
        "2. Define __str__ method in Employee class so that when someone tries to\n",
        "print the object the string Name: employee_name, Salary:\n",
        "employee_salary is printed with the actual employee name and salary.\n",
        "3. Create another class named Calculator, with methods to add, subtract,\n",
        "multiply and divide two numbers.\n",
        "4. These methods take two numbers as parameters.\n",
        "5. These methods will be called by a method named execute command.\n",
        "6. Execute command takes in 3 parameters command which is string that can\n",
        "be either ‘add’, ‘sub’, ‘mul’, ‘div’, and two numbers and it will call the\n",
        "appropriate method based on command parameter."
      ],
      "metadata": {
        "id": "-ehQKplo7JZK"
      }
    },
    {
      "cell_type": "code",
      "execution_count": 9,
      "metadata": {
        "id": "Jsj_C_0y1X8I"
      },
      "outputs": [],
      "source": [
        "class Employee:\n",
        "  def __init__(self):\n",
        "    self.name= input('enter name')\n",
        "    self.salary= int(input('enter salary'))\n",
        "\n",
        "  def __str__(self,employee_name,salary):\n",
        "    self.employee_name = employee_name\n",
        "    self.salary = salary\n",
        "    print('employee name',employee_name,'your Salary: ',salary)"
      ]
    },
    {
      "cell_type": "code",
      "source": [
        "mohan=Employee()"
      ],
      "metadata": {
        "colab": {
          "base_uri": "https://localhost:8080/"
        },
        "id": "sYTxSqhb2oP2",
        "outputId": "651a8ae6-a244-4729-d2e1-a28b9dfac136"
      },
      "execution_count": 10,
      "outputs": [
        {
          "name": "stdout",
          "output_type": "stream",
          "text": [
            "enter namehgg\n",
            "enter salary766\n"
          ]
        }
      ]
    },
    {
      "cell_type": "code",
      "source": [
        "mohan.__str__('Mohan',51000)"
      ],
      "metadata": {
        "colab": {
          "base_uri": "https://localhost:8080/"
        },
        "id": "KPs5aXQF2r6b",
        "outputId": "5bbb617f-be9b-44e5-aa6f-d9105c0d68cd"
      },
      "execution_count": 12,
      "outputs": [
        {
          "output_type": "stream",
          "name": "stdout",
          "text": [
            "employee name Mohan your Salary:  51000\n"
          ]
        }
      ]
    },
    {
      "cell_type": "code",
      "source": [
        "class Calculator:\n",
        "  def add(self,a,b):\n",
        "    return a + b\n",
        "\n",
        "\n",
        "  def sub(self,a,b):\n",
        "    return a - b\n",
        "\n",
        "\n",
        "  def mul(self,a,b):\n",
        "    return a * b\n",
        "\n",
        "\n",
        "  def div(self,a,b):\n",
        "    if b != 0:\n",
        "      return a / b\n",
        "    else:\n",
        "      return 'Error: Division by 0'\n",
        "\n",
        "  def execute_command(self,command,a,b):\n",
        "    if command == 'add':\n",
        "      return self.add(a,b)\n",
        "\n",
        "    elif command == 'sub':\n",
        "      return self.sub(a,b)\n",
        "\n",
        "    elif command == 'mul':\n",
        "      return self.mul(a,b)\n",
        "\n",
        "    elif command == 'div':\n",
        "      return self.div(a,b)\n",
        "\n",
        "    else:\n",
        "      return 'Error: Invalid command'"
      ],
      "metadata": {
        "id": "o_7auDdO3GaI"
      },
      "execution_count": 15,
      "outputs": []
    },
    {
      "cell_type": "code",
      "source": [
        "cal= Calculator()"
      ],
      "metadata": {
        "id": "5kS8z4VP6MP_"
      },
      "execution_count": 16,
      "outputs": []
    },
    {
      "cell_type": "code",
      "source": [
        "cal.add(4,5)"
      ],
      "metadata": {
        "colab": {
          "base_uri": "https://localhost:8080/"
        },
        "id": "26t5mO2t6RXv",
        "outputId": "dd1c6266-20cd-4e3d-f8b8-7189f598c97a"
      },
      "execution_count": 17,
      "outputs": [
        {
          "output_type": "execute_result",
          "data": {
            "text/plain": [
              "9"
            ]
          },
          "metadata": {},
          "execution_count": 17
        }
      ]
    },
    {
      "cell_type": "code",
      "source": [
        "cal.sub(9,3)"
      ],
      "metadata": {
        "colab": {
          "base_uri": "https://localhost:8080/"
        },
        "id": "p7BzVCWp6fde",
        "outputId": "4fb8803a-bb20-4424-9c11-c485c9f14ed1"
      },
      "execution_count": 18,
      "outputs": [
        {
          "output_type": "execute_result",
          "data": {
            "text/plain": [
              "6"
            ]
          },
          "metadata": {},
          "execution_count": 18
        }
      ]
    },
    {
      "cell_type": "code",
      "source": [
        "cal.mul(4,5)"
      ],
      "metadata": {
        "colab": {
          "base_uri": "https://localhost:8080/"
        },
        "id": "-u8D8Amy6h0N",
        "outputId": "51b2a111-16cb-4867-adee-58073d953342"
      },
      "execution_count": 19,
      "outputs": [
        {
          "output_type": "execute_result",
          "data": {
            "text/plain": [
              "20"
            ]
          },
          "metadata": {},
          "execution_count": 19
        }
      ]
    },
    {
      "cell_type": "code",
      "source": [
        "cal.div(6,2)"
      ],
      "metadata": {
        "colab": {
          "base_uri": "https://localhost:8080/"
        },
        "id": "eb0MqLbd6kId",
        "outputId": "195ea96c-7694-4c93-8074-944670d4fe8f"
      },
      "execution_count": 20,
      "outputs": [
        {
          "output_type": "execute_result",
          "data": {
            "text/plain": [
              "3.0"
            ]
          },
          "metadata": {},
          "execution_count": 20
        }
      ]
    },
    {
      "cell_type": "code",
      "source": [],
      "metadata": {
        "id": "bInejdx06oG8"
      },
      "execution_count": null,
      "outputs": []
    }
  ]
}