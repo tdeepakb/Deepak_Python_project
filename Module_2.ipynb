{
  "nbformat": 4,
  "nbformat_minor": 0,
  "metadata": {
    "colab": {
      "provenance": [],
      "authorship_tag": "ABX9TyMSwQWzc9c/hSFXthKOCKJd",
      "include_colab_link": true
    },
    "kernelspec": {
      "name": "python3",
      "display_name": "Python 3"
    },
    "language_info": {
      "name": "python"
    }
  },
  "cells": [
    {
      "cell_type": "markdown",
      "metadata": {
        "id": "view-in-github",
        "colab_type": "text"
      },
      "source": [
        "<a href=\"https://colab.research.google.com/github/tdeepakb/Deepak_Python_project/blob/master/Module_2.ipynb\" target=\"_parent\"><img src=\"https://colab.research.google.com/assets/colab-badge.svg\" alt=\"Open In Colab\"/></a>"
      ]
    },
    {
      "cell_type": "code",
      "execution_count": null,
      "metadata": {
        "id": "HRNHJs3QD8Z0"
      },
      "outputs": [],
      "source": []
    },
    {
      "cell_type": "markdown",
      "source": [
        "Assignment- 1"
      ],
      "metadata": {
        "id": "6ykdRul8D-IZ"
      }
    },
    {
      "cell_type": "code",
      "source": [],
      "metadata": {
        "id": "rxCoMPlrEAax"
      },
      "execution_count": null,
      "outputs": []
    },
    {
      "cell_type": "markdown",
      "source": [
        "1. Create a function named ‘factor’ that can only accept 1 argument. The\n",
        "function should return the factorial of that number."
      ],
      "metadata": {
        "id": "pCclRfWLEBBh"
      }
    },
    {
      "cell_type": "code",
      "source": [
        "def factorial(num):\n",
        "  r = 1\n",
        "  while num>0:\n",
        "    r = r*num\n",
        "    num-=1\n",
        "\n",
        "  return r"
      ],
      "metadata": {
        "id": "DRJfqXU-EC2t"
      },
      "execution_count": 1,
      "outputs": []
    },
    {
      "cell_type": "code",
      "source": [
        "factorial(4)"
      ],
      "metadata": {
        "colab": {
          "base_uri": "https://localhost:8080/"
        },
        "id": "3JS7rPUQEqKn",
        "outputId": "248375f8-c94a-4cbf-becc-d9c44dd72f28"
      },
      "execution_count": 2,
      "outputs": [
        {
          "output_type": "execute_result",
          "data": {
            "text/plain": [
              "24"
            ]
          },
          "metadata": {},
          "execution_count": 2
        }
      ]
    },
    {
      "cell_type": "code",
      "source": [
        "factorial(5)"
      ],
      "metadata": {
        "colab": {
          "base_uri": "https://localhost:8080/"
        },
        "id": "y4fMyVPaEvsr",
        "outputId": "288217d2-e6d0-43cc-a8e5-8e111626918e"
      },
      "execution_count": 3,
      "outputs": [
        {
          "output_type": "execute_result",
          "data": {
            "text/plain": [
              "120"
            ]
          },
          "metadata": {},
          "execution_count": 3
        }
      ]
    },
    {
      "cell_type": "markdown",
      "source": [
        "2. Create a function named ‘check_string’, the function should accept a string\n",
        "data from the user and the function should check if the user input contains\n",
        "the letter ‘s’ in it. If it contains the letter ‘s’ then print- ‘The string is\n",
        "containing the letter ‘s’’, if not then print- ‘The string doesn’t contain the\n",
        "letter ‘s’’."
      ],
      "metadata": {
        "id": "kCHUBAHbE6zy"
      }
    },
    {
      "cell_type": "code",
      "source": [
        "def check_string(str):\n",
        "  for x in str:\n",
        "    if x == 's' or x == 'S':\n",
        "      return 'This word contain letter s'\n",
        "\n",
        "  return 'This word not contain  s'"
      ],
      "metadata": {
        "id": "L0fibY2KE0On"
      },
      "execution_count": 4,
      "outputs": []
    },
    {
      "cell_type": "code",
      "source": [
        "check_string('strong')"
      ],
      "metadata": {
        "colab": {
          "base_uri": "https://localhost:8080/",
          "height": 35
        },
        "id": "dND-8DtmFwIN",
        "outputId": "8e84e95e-5bef-47ef-f70b-63b0c4bc7f0d"
      },
      "execution_count": 5,
      "outputs": [
        {
          "output_type": "execute_result",
          "data": {
            "text/plain": [
              "'This word contain letter s'"
            ],
            "application/vnd.google.colaboratory.intrinsic+json": {
              "type": "string"
            }
          },
          "metadata": {},
          "execution_count": 5
        }
      ]
    },
    {
      "cell_type": "code",
      "source": [
        "check_string('rider')"
      ],
      "metadata": {
        "colab": {
          "base_uri": "https://localhost:8080/",
          "height": 35
        },
        "id": "WRv_XfTuFzLZ",
        "outputId": "1c007e68-f673-4a74-f888-7996faa0ebf9"
      },
      "execution_count": 6,
      "outputs": [
        {
          "output_type": "execute_result",
          "data": {
            "text/plain": [
              "'This word not contain  s'"
            ],
            "application/vnd.google.colaboratory.intrinsic+json": {
              "type": "string"
            }
          },
          "metadata": {},
          "execution_count": 6
        }
      ]
    },
    {
      "cell_type": "markdown",
      "source": [
        "3. Create a class named ‘student’ and inside the class, create a function\n",
        "named ‘fun1’- this method should accept the user defined input and return\n",
        "that value:\n",
        "a. Create another method named- message() and that method should print\n",
        "the user defined input that we have defined in ‘fun1’."
      ],
      "metadata": {
        "id": "zQsgfTfBGCkf"
      }
    },
    {
      "cell_type": "code",
      "source": [
        "class Student:\n",
        "  def fun1(self):\n",
        "    self.name = input('enter name')\n",
        "    return self.name\n",
        "\n",
        "  def message(self):\n",
        "    print(self.name)"
      ],
      "metadata": {
        "id": "o3GMg8hkF17P"
      },
      "execution_count": 7,
      "outputs": []
    },
    {
      "cell_type": "code",
      "source": [
        "mohan=Student()"
      ],
      "metadata": {
        "id": "GXt3rYbNGqIQ"
      },
      "execution_count": 8,
      "outputs": []
    },
    {
      "cell_type": "code",
      "source": [
        "mohan.fun1()"
      ],
      "metadata": {
        "colab": {
          "base_uri": "https://localhost:8080/",
          "height": 53
        },
        "id": "vrbAR8amGuDH",
        "outputId": "c3c07aaf-816b-4ed5-f813-961a07dca6f9"
      },
      "execution_count": 9,
      "outputs": [
        {
          "name": "stdout",
          "output_type": "stream",
          "text": [
            "enter nameMohan\n"
          ]
        },
        {
          "output_type": "execute_result",
          "data": {
            "text/plain": [
              "'Mohan'"
            ],
            "application/vnd.google.colaboratory.intrinsic+json": {
              "type": "string"
            }
          },
          "metadata": {},
          "execution_count": 9
        }
      ]
    },
    {
      "cell_type": "code",
      "source": [
        "mohan.message()"
      ],
      "metadata": {
        "colab": {
          "base_uri": "https://localhost:8080/"
        },
        "id": "gl6djUxoGwVG",
        "outputId": "2d95355b-0360-4c06-8d87-71900480f654"
      },
      "execution_count": 10,
      "outputs": [
        {
          "output_type": "stream",
          "name": "stdout",
          "text": [
            "Mohan\n"
          ]
        }
      ]
    },
    {
      "cell_type": "markdown",
      "source": [
        "4. Create a lambda function that should double or multiply the number (that\n",
        "we will be passing in the lambda function) by 2. Store the lambda function\n",
        "in a variable named ‘double_num’."
      ],
      "metadata": {
        "id": "BVl22baeHF3R"
      }
    },
    {
      "cell_type": "code",
      "source": [
        "double_num = lambda x: x*2"
      ],
      "metadata": {
        "id": "nrxhfsDcG6In"
      },
      "execution_count": 11,
      "outputs": []
    },
    {
      "cell_type": "code",
      "source": [
        "print(double_num(4))"
      ],
      "metadata": {
        "colab": {
          "base_uri": "https://localhost:8080/"
        },
        "id": "HBDOONjwHm7f",
        "outputId": "1ce3808a-e87e-477a-f65a-ed627a0818bc"
      },
      "execution_count": 12,
      "outputs": [
        {
          "output_type": "stream",
          "name": "stdout",
          "text": [
            "8\n"
          ]
        }
      ]
    },
    {
      "cell_type": "code",
      "source": [
        "double_num(6)"
      ],
      "metadata": {
        "colab": {
          "base_uri": "https://localhost:8080/"
        },
        "id": "TOgWEzM1HpuO",
        "outputId": "1d9703a7-b718-460d-b57b-4cd162e7d361"
      },
      "execution_count": 13,
      "outputs": [
        {
          "output_type": "execute_result",
          "data": {
            "text/plain": [
              "12"
            ]
          },
          "metadata": {},
          "execution_count": 13
        }
      ]
    },
    {
      "cell_type": "markdown",
      "source": [
        "5. Take user input string and check whether that string is palindrome or not."
      ],
      "metadata": {
        "id": "2aZR8jXHH1N5"
      }
    },
    {
      "cell_type": "code",
      "source": [
        "def check_palingdrome(str):\n",
        "  if str==str[::-1]:\n",
        "    return 'Palingdrome'\n",
        "\n",
        "  return 'Not palingdrome'"
      ],
      "metadata": {
        "id": "HBSISH9BHwc8"
      },
      "execution_count": 17,
      "outputs": []
    },
    {
      "cell_type": "code",
      "source": [
        "check_palingdrome('hello')"
      ],
      "metadata": {
        "colab": {
          "base_uri": "https://localhost:8080/",
          "height": 35
        },
        "id": "wgaio9bmIaV5",
        "outputId": "6ec4ae14-aefb-407f-faf5-6a10fe8b9518"
      },
      "execution_count": 19,
      "outputs": [
        {
          "output_type": "execute_result",
          "data": {
            "text/plain": [
              "'Not palingdrome'"
            ],
            "application/vnd.google.colaboratory.intrinsic+json": {
              "type": "string"
            }
          },
          "metadata": {},
          "execution_count": 19
        }
      ]
    },
    {
      "cell_type": "code",
      "source": [
        "check_palingdrome('rotator')"
      ],
      "metadata": {
        "colab": {
          "base_uri": "https://localhost:8080/",
          "height": 35
        },
        "id": "THuVROOYI5D2",
        "outputId": "dce015b1-0f21-43db-d311-fa7bcbba3b3a"
      },
      "execution_count": 20,
      "outputs": [
        {
          "output_type": "execute_result",
          "data": {
            "text/plain": [
              "'Palingdrome'"
            ],
            "application/vnd.google.colaboratory.intrinsic+json": {
              "type": "string"
            }
          },
          "metadata": {},
          "execution_count": 20
        }
      ]
    },
    {
      "cell_type": "markdown",
      "source": [
        "Assignment- 2"
      ],
      "metadata": {
        "id": "hC4WJa0OJP6c"
      }
    },
    {
      "cell_type": "markdown",
      "source": [
        "1. Create a class named ‘Super’ and inside that class define a user-defined\n",
        "function named fun1\n",
        "a. Inside the ‘fun1’ function, pass the message “This is function 1 in the\n",
        "Super class.” in the print statement.\n",
        "2. Create another class named ‘Modified_Super’ and inherit this class from\n",
        "the Super class\n",
        "a. Inside the Modified_Super class, create a function named ‘fun1’ and\n",
        "pass the following message inside the print statement: ‘This is function 1 in\n",
        "the Modified Super class.’\n",
        "b. Create another user-defined function named ‘fun2’ and pass the\n",
        "message: ‘This is the 2 nd function from the Modified Super class’ in the\n",
        "print statement.\n",
        "c. After that, now create an object for the Modified_Super class and call the\n",
        "fun1().\n",
        "3. Create 2 methods named ‘Hello’. In the 1st Hello method, pass only one\n",
        "argument and pass this message: ‘This function is only having 1\n",
        "argument’. And in the 2nd Hello method, pass two arguments and pass\n",
        "this message: ‘This function is having 2 arguments’."
      ],
      "metadata": {
        "id": "DO-yZQ7dJiex"
      }
    },
    {
      "cell_type": "code",
      "source": [
        "class Super:\n",
        "  def fun1(self):\n",
        "    print('This is function 1 in the Super class')\n",
        "\n",
        "class Modified_Super(Super):\n",
        "  def fun1(self):\n",
        "    print('This is function 1 in the modified_super class')\n",
        "\n",
        "  def fun2(self):\n",
        "    print('This is 2nd function from the modified super class')"
      ],
      "metadata": {
        "id": "CxISArQyI_ku"
      },
      "execution_count": 22,
      "outputs": []
    },
    {
      "cell_type": "code",
      "source": [
        "xyz=Modified_Super()"
      ],
      "metadata": {
        "id": "UN0WMq0tJdQG"
      },
      "execution_count": 23,
      "outputs": []
    },
    {
      "cell_type": "code",
      "source": [
        "xyz.fun1()"
      ],
      "metadata": {
        "colab": {
          "base_uri": "https://localhost:8080/"
        },
        "id": "2LxxKsAoLmZW",
        "outputId": "002e8dd8-1d4e-49e2-f9c3-a25566d1f0b6"
      },
      "execution_count": 24,
      "outputs": [
        {
          "output_type": "stream",
          "name": "stdout",
          "text": [
            "This is function 1 in the modified_super class\n"
          ]
        }
      ]
    },
    {
      "cell_type": "code",
      "source": [
        "def Hello(a):\n",
        "  print('This function having 1 arguments')\n",
        "\n",
        "def Hello(a,b):\n",
        "  print('This function is having 2 arguments')"
      ],
      "metadata": {
        "id": "lfZl09hRLq4d"
      },
      "execution_count": 25,
      "outputs": []
    },
    {
      "cell_type": "code",
      "source": [
        "Hello('sir')"
      ],
      "metadata": {
        "colab": {
          "base_uri": "https://localhost:8080/",
          "height": 141
        },
        "id": "ntaDV40HNNSS",
        "outputId": "83756f41-e881-4be0-fb75-f44ee9b82da0"
      },
      "execution_count": 26,
      "outputs": [
        {
          "output_type": "error",
          "ename": "TypeError",
          "evalue": "Hello() missing 1 required positional argument: 'b'",
          "traceback": [
            "\u001b[0;31m---------------------------------------------------------------------------\u001b[0m",
            "\u001b[0;31mTypeError\u001b[0m                                 Traceback (most recent call last)",
            "\u001b[0;32m<ipython-input-26-f7d5796bccb7>\u001b[0m in \u001b[0;36m<cell line: 1>\u001b[0;34m()\u001b[0m\n\u001b[0;32m----> 1\u001b[0;31m \u001b[0mHello\u001b[0m\u001b[0;34m(\u001b[0m\u001b[0;34m'sir'\u001b[0m\u001b[0;34m)\u001b[0m\u001b[0;34m\u001b[0m\u001b[0;34m\u001b[0m\u001b[0m\n\u001b[0m",
            "\u001b[0;31mTypeError\u001b[0m: Hello() missing 1 required positional argument: 'b'"
          ]
        }
      ]
    },
    {
      "cell_type": "code",
      "source": [
        "Hello('mohan','sir')"
      ],
      "metadata": {
        "colab": {
          "base_uri": "https://localhost:8080/"
        },
        "id": "Rsm64QiWNSii",
        "outputId": "53fb9ae5-bbca-4228-f514-55d13ac3ef4d"
      },
      "execution_count": 27,
      "outputs": [
        {
          "output_type": "stream",
          "name": "stdout",
          "text": [
            "This function is having 2 arguments\n"
          ]
        }
      ]
    },
    {
      "cell_type": "markdown",
      "source": [
        "4. Create a method named ‘Sum’ that can accept multiple user inputs. Now\n",
        "add those user defined input values using for loop and the function should\n",
        "return the addition of the numbers."
      ],
      "metadata": {
        "id": "KuR_mX7xNeeK"
      }
    },
    {
      "cell_type": "code",
      "source": [
        "def sum(*inp):\n",
        "  total = 0\n",
        "  for x in range(len(inp)):\n",
        "    total = total+inp[x]\n",
        "\n",
        "  return total"
      ],
      "metadata": {
        "id": "MambE-h_NVAq"
      },
      "execution_count": 28,
      "outputs": []
    },
    {
      "cell_type": "code",
      "source": [
        "sum(3,4,5)"
      ],
      "metadata": {
        "colab": {
          "base_uri": "https://localhost:8080/"
        },
        "id": "RW_DpjNMOFtL",
        "outputId": "85c6ab40-7fcd-4f27-cd1a-5d33ac0058ac"
      },
      "execution_count": 29,
      "outputs": [
        {
          "output_type": "execute_result",
          "data": {
            "text/plain": [
              "12"
            ]
          },
          "metadata": {},
          "execution_count": 29
        }
      ]
    },
    {
      "cell_type": "code",
      "source": [
        "sum(2,3,4,6,7,8)"
      ],
      "metadata": {
        "colab": {
          "base_uri": "https://localhost:8080/"
        },
        "id": "x-AGeSvrOJ_q",
        "outputId": "645271c9-d115-4c90-963d-8d49a1973dc5"
      },
      "execution_count": 30,
      "outputs": [
        {
          "output_type": "execute_result",
          "data": {
            "text/plain": [
              "30"
            ]
          },
          "metadata": {},
          "execution_count": 30
        }
      ]
    },
    {
      "cell_type": "markdown",
      "source": [
        "5. Create a class named ‘Encapsulation’:\n",
        "a. Inside the class, first create a constructor. Inside the constructor,\n",
        "initialize originalValue variable as 10.\n",
        "b. After creating the constructor, define a function named ‘Value’ and this\n",
        "function should return the variable that we have initialized in the\n",
        "constructor.\n",
        "c. Now create a 2nd function named setValue, and pass an argument\n",
        "named ‘newValue’. The task of this function will be to replace the value of\n",
        "the originalValue variable by the value of newValue variable"
      ],
      "metadata": {
        "id": "5wKh9nUYOSgS"
      }
    },
    {
      "cell_type": "code",
      "source": [
        "class Encapsulation:\n",
        "  def __init__(self):\n",
        "    self.originalvalue= 10\n",
        "\n",
        "  def value(self):\n",
        "    return self.originalvalue\n",
        "\n",
        "  def setValue(self,newValue):\n",
        "    self.newValue= newValue\n",
        "    self.originalvalue= newValue"
      ],
      "metadata": {
        "id": "AqPXE9r8OMvp"
      },
      "execution_count": 42,
      "outputs": []
    },
    {
      "cell_type": "code",
      "source": [
        "hotel=Encapsulation()"
      ],
      "metadata": {
        "id": "7XA0uGtcOvIK"
      },
      "execution_count": 43,
      "outputs": []
    },
    {
      "cell_type": "code",
      "source": [
        "hotel.value()"
      ],
      "metadata": {
        "colab": {
          "base_uri": "https://localhost:8080/"
        },
        "id": "lnunOW7yOzf6",
        "outputId": "2221be46-7ead-4a47-9df6-44cc2b63a117"
      },
      "execution_count": 44,
      "outputs": [
        {
          "output_type": "execute_result",
          "data": {
            "text/plain": [
              "10"
            ]
          },
          "metadata": {},
          "execution_count": 44
        }
      ]
    },
    {
      "cell_type": "code",
      "source": [
        "hotel.setValue(54)"
      ],
      "metadata": {
        "id": "L6yCF5P_PAMp"
      },
      "execution_count": 45,
      "outputs": []
    },
    {
      "cell_type": "code",
      "source": [
        "hotel.value()"
      ],
      "metadata": {
        "colab": {
          "base_uri": "https://localhost:8080/"
        },
        "id": "jtz461QkPmwh",
        "outputId": "f926973b-57d3-4c25-c172-63ccd64b839e"
      },
      "execution_count": 47,
      "outputs": [
        {
          "output_type": "execute_result",
          "data": {
            "text/plain": [
              "54"
            ]
          },
          "metadata": {},
          "execution_count": 47
        }
      ]
    },
    {
      "cell_type": "markdown",
      "source": [
        "Assignment- 3"
      ],
      "metadata": {
        "id": "pGaP92tbTi3S"
      }
    },
    {
      "cell_type": "markdown",
      "source": [
        "1. Create a Python file named Module:\n",
        "a. Inside the file, define 4 methods named – addition, subtraction,\n",
        "multiplication, and division.\n",
        "b. Each method should only accept 2 arguments and should return the\n",
        "result of operation performed in each method. For e.g., addition() should\n",
        "return the sum of two arguments.\n",
        "c. Save the Module file in .py format.\n",
        "2. Open a new python file and import the Module.py file\n",
        "a. Now call the 4 methods from the Module.py file, i.e., addition(),\n",
        "subtraction(), multiplication(), and division().\n",
        "3. From the Module file, import only the addition() and pass the arguments so\n",
        "that it can display the result from the method.\n",
        "4. From the Module file, import only the subtraction() and pass the arguments\n",
        "so that it can display the result from the method.\n",
        "5. From the Module file, import both the multiplication() and division() and\n",
        "pass the a"
      ],
      "metadata": {
        "id": "rbqGbNBqTeGi"
      }
    },
    {
      "cell_type": "code",
      "source": [
        "from module import sum,multiply, division, subtract"
      ],
      "metadata": {
        "id": "rqkKEQ8qP2Bx"
      },
      "execution_count": 52,
      "outputs": []
    },
    {
      "cell_type": "code",
      "source": [
        "sum(3,4)"
      ],
      "metadata": {
        "colab": {
          "base_uri": "https://localhost:8080/"
        },
        "id": "5d2TPghfS-cx",
        "outputId": "126ba4e3-6527-4131-b85b-388cc919d42f"
      },
      "execution_count": 49,
      "outputs": [
        {
          "output_type": "stream",
          "name": "stdout",
          "text": [
            "7\n"
          ]
        }
      ]
    },
    {
      "cell_type": "code",
      "source": [
        "multiply(3,2)"
      ],
      "metadata": {
        "colab": {
          "base_uri": "https://localhost:8080/"
        },
        "id": "A1m5bWPxTAyw",
        "outputId": "c2f2c5cd-067b-49ab-ccd3-c2c9f5486800"
      },
      "execution_count": 50,
      "outputs": [
        {
          "output_type": "stream",
          "name": "stdout",
          "text": [
            "6\n"
          ]
        }
      ]
    },
    {
      "cell_type": "code",
      "source": [
        "division(9,3)"
      ],
      "metadata": {
        "colab": {
          "base_uri": "https://localhost:8080/"
        },
        "id": "EHIkD5qxTHKZ",
        "outputId": "bc9f1f67-afdd-4741-afb7-a6c4982390f5"
      },
      "execution_count": 51,
      "outputs": [
        {
          "output_type": "stream",
          "name": "stdout",
          "text": [
            "3.0\n"
          ]
        }
      ]
    },
    {
      "cell_type": "code",
      "source": [
        "subtract(6,4)"
      ],
      "metadata": {
        "colab": {
          "base_uri": "https://localhost:8080/"
        },
        "id": "fhHxCbpkTJtI",
        "outputId": "269b18d5-2c45-466d-bd81-130be82653d6"
      },
      "execution_count": 53,
      "outputs": [
        {
          "output_type": "stream",
          "name": "stdout",
          "text": [
            "2\n"
          ]
        }
      ]
    },
    {
      "cell_type": "code",
      "source": [
        "from module import *"
      ],
      "metadata": {
        "id": "MNHbYMGgTQsA"
      },
      "execution_count": 54,
      "outputs": []
    },
    {
      "cell_type": "code",
      "source": [],
      "metadata": {
        "id": "Pro9tloVTTWw"
      },
      "execution_count": null,
      "outputs": []
    },
    {
      "cell_type": "markdown",
      "source": [
        "Assignment- 4"
      ],
      "metadata": {
        "id": "n0HR4ddLUISA"
      }
    },
    {
      "cell_type": "markdown",
      "source": [
        "1. Create a class named parent_Class and inside the class, initialize a global\n",
        "variable num as 10\n",
        "a. Create another class named child_Class and this class should be\n",
        "inherited from the parent class.\n",
        "b. Now create an object for the child_Class and with the help of\n",
        "child_Class object, display the value of ‘num'."
      ],
      "metadata": {
        "id": "HFv0_GIHULFD"
      }
    },
    {
      "cell_type": "code",
      "source": [
        "class Parent_class:\n",
        "  def global_var_num(self,num):\n",
        "    self.num=10\n",
        "\n",
        "class Child_class(Parent_class):\n",
        "  def child(self):\n",
        "    print('This is a child class')"
      ],
      "metadata": {
        "id": "vBgx315uUKXg"
      },
      "execution_count": 56,
      "outputs": []
    },
    {
      "cell_type": "code",
      "source": [
        "rohan=Child_class()"
      ],
      "metadata": {
        "id": "jZwOwqG6VIuQ"
      },
      "execution_count": 57,
      "outputs": []
    },
    {
      "cell_type": "code",
      "source": [
        "rohan.global_var_num(10)"
      ],
      "metadata": {
        "id": "mGqFrArtVdT5"
      },
      "execution_count": 58,
      "outputs": []
    },
    {
      "cell_type": "code",
      "source": [
        "rohan.child()"
      ],
      "metadata": {
        "colab": {
          "base_uri": "https://localhost:8080/"
        },
        "id": "oucLeUpbVkZa",
        "outputId": "5ffd1518-291e-4b8b-e4e7-fe1e8add674c"
      },
      "execution_count": 59,
      "outputs": [
        {
          "output_type": "stream",
          "name": "stdout",
          "text": [
            "This is a child class\n"
          ]
        }
      ]
    },
    {
      "cell_type": "code",
      "source": [
        "rohan.num"
      ],
      "metadata": {
        "colab": {
          "base_uri": "https://localhost:8080/"
        },
        "id": "-QNQtEN3Vnmn",
        "outputId": "45a3346c-b3ba-4bd3-8702-6180eda3ed86"
      },
      "execution_count": 61,
      "outputs": [
        {
          "output_type": "execute_result",
          "data": {
            "text/plain": [
              "10"
            ]
          },
          "metadata": {},
          "execution_count": 61
        }
      ]
    },
    {
      "cell_type": "code",
      "source": [],
      "metadata": {
        "id": "niRS9uWQVvkP"
      },
      "execution_count": null,
      "outputs": []
    },
    {
      "cell_type": "markdown",
      "source": [
        "2. Create three classes named A, B and C\n",
        "a. Inside the A class, create a constructor. Inside the constructor, initialize\n",
        "2 global variables name and age.\n",
        "b. After initializing the global variables inside the constructor, now create a\n",
        "function named ‘details’ and that function should return the ‘name’ variable.\n",
        "c. Inside the B class, create a constructor. Inside the constructor, initialize 2\n",
        "global variables name and id.\n",
        "d. After initializing the global variables inside the constructor, now create a\n",
        "function named ‘details’ and that function should return the ‘name’ variable.\n",
        "e. The C class should inherit from class A, and B. Inside the class C,\n",
        "create a constructor, and inside the constructor, call the constructor of\n",
        "class A.\n",
        "f. Now, create a method inside the class C, as get_details, and this function\n",
        "should return the value of name.\n",
        "g. Atlast, create an object of class C, and with the help of the object, call\n",
        "the get_details()."
      ],
      "metadata": {
        "id": "m5X2Zy_xV7Wa"
      }
    },
    {
      "cell_type": "code",
      "source": [
        "class A:\n",
        "  def __init__(self,name,age):\n",
        "    self.name= name\n",
        "    self.age= age\n",
        "    print('your name is: ',name,'your age is: ',age)\n",
        "\n",
        "  def details(self):\n",
        "    return self.name\n",
        "\n",
        "class B:\n",
        "  def __init__(self,name,id):\n",
        "    self.name= name\n",
        "    self.id= id\n",
        "\n",
        "  def details(self):\n",
        "    return self.name\n",
        "\n",
        "class C(A, B):\n",
        "  def __init__(self,name,age):\n",
        "    self.name= name\n",
        "    self.age= age\n",
        "    print('your name is: ',name,'your age is: ',age)\n",
        "\n",
        "  def details(self):\n",
        "    return self.name"
      ],
      "metadata": {
        "id": "OCNw__2_V9H4"
      },
      "execution_count": 63,
      "outputs": []
    },
    {
      "cell_type": "code",
      "source": [
        "chandan= C('rohan',45)"
      ],
      "metadata": {
        "colab": {
          "base_uri": "https://localhost:8080/"
        },
        "id": "5ciIkHdbYi7v",
        "outputId": "61c4163f-f756-4255-ba89-1f3cfe4ed3b8"
      },
      "execution_count": 68,
      "outputs": [
        {
          "output_type": "stream",
          "name": "stdout",
          "text": [
            "your name is:  rohan your age is:  45\n"
          ]
        }
      ]
    },
    {
      "cell_type": "code",
      "source": [
        "chandan.details()"
      ],
      "metadata": {
        "colab": {
          "base_uri": "https://localhost:8080/",
          "height": 35
        },
        "id": "rqM7d0aQYxTP",
        "outputId": "70e4aae3-834c-426e-e378-4da1ec459eeb"
      },
      "execution_count": 69,
      "outputs": [
        {
          "output_type": "execute_result",
          "data": {
            "text/plain": [
              "'rohan'"
            ],
            "application/vnd.google.colaboratory.intrinsic+json": {
              "type": "string"
            }
          },
          "metadata": {},
          "execution_count": 69
        }
      ]
    },
    {
      "cell_type": "code",
      "source": [],
      "metadata": {
        "id": "GMWVvy5PY0OO"
      },
      "execution_count": null,
      "outputs": []
    },
    {
      "cell_type": "markdown",
      "source": [
        "3. Create a class named ‘Sub1’, inside the class, generate a user defined\n",
        "function named ‘first’ and inside the function, pass the following statement\n",
        "in the print()- ‘This is the first function from Sub 1 class’.\n",
        "a. Now create another class named ‘Sub2’, and inside the class, create a\n",
        "function named ‘second’, and pass the following message in the print()-\n",
        "‘This is the second function from the Sub 2 class’\n",
        "b. After that, create another class named ‘Super’ and inside that class,\n",
        "create a method named ‘final’, and pass the below message in the print()-\n",
        "‘This is the final method from the super class’.\n",
        "c. Now, create an object for the Super class and call all the 3 user defined\n",
        "methods, i.e., first(), second(), and final()."
      ],
      "metadata": {
        "id": "UKXS-6hSZMy6"
      }
    },
    {
      "cell_type": "code",
      "source": [
        "class Sub1:\n",
        "  def first(self):\n",
        "    print('This is first function from Sub1')\n",
        "    self.name= input('enter name')\n",
        "\n",
        "class Sub2:\n",
        "  def second(self):\n",
        "    print('This is second function from the Sub2 class')\n",
        "    self.name= input('enter name')\n",
        "\n",
        "class Super(Sub1,Sub2):\n",
        "  def final(self):\n",
        "    print('This is the final method from the super class')\n",
        "    self.name= input('enter name')"
      ],
      "metadata": {
        "id": "X86kKAf6ZRNW"
      },
      "execution_count": 75,
      "outputs": []
    },
    {
      "cell_type": "code",
      "source": [
        "deep= Super()"
      ],
      "metadata": {
        "id": "p3Xo-7pfbEwi"
      },
      "execution_count": 76,
      "outputs": []
    },
    {
      "cell_type": "code",
      "source": [
        "# if i will call without inherit sub1 and sub2 it will show error"
      ],
      "metadata": {
        "id": "Y_pCmU_jd7VZ"
      },
      "execution_count": 80,
      "outputs": []
    },
    {
      "cell_type": "code",
      "source": [
        "deep.first()"
      ],
      "metadata": {
        "colab": {
          "base_uri": "https://localhost:8080/"
        },
        "id": "ygVheoXJbNWm",
        "outputId": "7763351e-61f6-43f6-c0b2-d58bc95daea3"
      },
      "execution_count": 77,
      "outputs": [
        {
          "name": "stdout",
          "output_type": "stream",
          "text": [
            "This is first function from Sub1\n",
            "enter namehello first\n"
          ]
        }
      ]
    },
    {
      "cell_type": "code",
      "source": [
        "deep.second()"
      ],
      "metadata": {
        "colab": {
          "base_uri": "https://localhost:8080/"
        },
        "id": "L-LXXOSZbThe",
        "outputId": "2553c616-8b09-4817-ec5a-a11d786ce497"
      },
      "execution_count": 78,
      "outputs": [
        {
          "name": "stdout",
          "output_type": "stream",
          "text": [
            "This is second function from the Sub2 class\n",
            "enter namehello second\n"
          ]
        }
      ]
    },
    {
      "cell_type": "code",
      "source": [
        "deep.final()"
      ],
      "metadata": {
        "colab": {
          "base_uri": "https://localhost:8080/"
        },
        "id": "RkjOe1oRbXXH",
        "outputId": "4e21c2db-7a42-4917-c0b8-954574644ecc"
      },
      "execution_count": 79,
      "outputs": [
        {
          "name": "stdout",
          "output_type": "stream",
          "text": [
            "This is the final method from the super class\n",
            "enter namehello final one\n"
          ]
        }
      ]
    },
    {
      "cell_type": "code",
      "source": [],
      "metadata": {
        "id": "SHGwneRbd21F"
      },
      "execution_count": null,
      "outputs": []
    },
    {
      "cell_type": "markdown",
      "source": [
        "4. Create a class named ‘Parent’, and inside the class, create a function\n",
        "named ‘fun1’ and pass the following message in the print()- ‘This is the\n",
        "message from the fun1’.\n",
        "a. Now create a class named ‘Child1’ and inside the class, create a\n",
        "method named ‘fun2’ and pass the following message in the print()- ‘This is\n",
        "the message from the fun2’.\n",
        "b. After that, create another class named ‘Child2’ and inside the class,\n",
        "create a method named ‘fun3’ and pass the following message in the\n",
        "print()- ‘This is the message from the fun3’.\n",
        "c. Now, create an object of Child2 class and with the help of the object, call\n",
        "the ‘fun1’ method from the ‘Parent’ class.\n",
        "5. Create a class named ‘Parent’, and inside the class, create a function\n",
        "named ‘fun1’ and pass the following message in the print()- ‘This is the\n",
        "message from the fun1’.\n",
        "a. Now create a class named ‘Child’ and inside the class, create a method\n",
        "named ‘fun2’ and pass the following message in the print()- ‘This is the\n",
        "message from the fun2’.\n",
        "b. After that, create another class named ‘Hybrid’ and inside the class,\n",
        "create a method named ‘fun3’ and pass the following message in the\n",
        "print()- ‘This is the message from the fun3’.\n",
        "c. Now create an object of Hybrid class and with the help of the object, call\n",
        "the ‘fun1’, ‘fun2’ and ‘fun3’ method"
      ],
      "metadata": {
        "id": "4C546axTeK7O"
      }
    },
    {
      "cell_type": "code",
      "source": [
        "class Parent:\n",
        "  def fun1(self):\n",
        "    print('This is the message from the fun1')\n",
        "\n",
        "class Child1:\n",
        "  def fun2(self):\n",
        "    print('This is the message from the fun2')\n",
        "\n",
        "class Child2(Parent, Child):\n",
        "  def fun3(self):\n",
        "    print('This is the message from the fun3')"
      ],
      "metadata": {
        "id": "3ahLFmZ4eL3d"
      },
      "execution_count": 90,
      "outputs": []
    },
    {
      "cell_type": "code",
      "source": [
        "dev= Child2()"
      ],
      "metadata": {
        "id": "FckDw5nie5YV"
      },
      "execution_count": 91,
      "outputs": []
    },
    {
      "cell_type": "code",
      "source": [
        "dev.fun1()"
      ],
      "metadata": {
        "colab": {
          "base_uri": "https://localhost:8080/"
        },
        "id": "Ai4ng00IfEfV",
        "outputId": "5bbec805-bf2b-432c-9da2-afd397408419"
      },
      "execution_count": 92,
      "outputs": [
        {
          "output_type": "stream",
          "name": "stdout",
          "text": [
            "This is the message from the fun1\n"
          ]
        }
      ]
    },
    {
      "cell_type": "code",
      "source": [
        "class Parent:\n",
        "  def fun1(self):\n",
        "    print('This is the message from the fun1')\n",
        "\n",
        "class Child:\n",
        "  def fun2(self):\n",
        "    print('This is the message from the fun2')\n",
        "\n",
        "class Hybrid(Parent, Child):\n",
        "  def fun3(self):\n",
        "    print('This is the message from the fun3')"
      ],
      "metadata": {
        "id": "ejJB4q7ffHSF"
      },
      "execution_count": 100,
      "outputs": []
    },
    {
      "cell_type": "code",
      "source": [
        "xyz= Hybrid()"
      ],
      "metadata": {
        "id": "EP8t02qugs4N"
      },
      "execution_count": 101,
      "outputs": []
    },
    {
      "cell_type": "code",
      "source": [
        "xyz.fun1()"
      ],
      "metadata": {
        "colab": {
          "base_uri": "https://localhost:8080/"
        },
        "id": "HGyEU_6Wg6LM",
        "outputId": "1c7a5e04-cf8c-4cbb-b522-6c2f9d05f811"
      },
      "execution_count": 102,
      "outputs": [
        {
          "output_type": "stream",
          "name": "stdout",
          "text": [
            "This is the message from the fun1\n"
          ]
        }
      ]
    },
    {
      "cell_type": "code",
      "source": [
        "xyz.fun2()"
      ],
      "metadata": {
        "colab": {
          "base_uri": "https://localhost:8080/"
        },
        "id": "Z_2hJvu5g8N8",
        "outputId": "10bb7586-e8ef-42fa-d4f9-a68931694bdd"
      },
      "execution_count": 103,
      "outputs": [
        {
          "output_type": "stream",
          "name": "stdout",
          "text": [
            "This is the message from the fun2\n"
          ]
        }
      ]
    },
    {
      "cell_type": "code",
      "source": [
        "xyz.fun3()"
      ],
      "metadata": {
        "colab": {
          "base_uri": "https://localhost:8080/"
        },
        "id": "uEBbMrTog931",
        "outputId": "9a4f78d8-0f43-492f-91f5-7ea5bfed7b44"
      },
      "execution_count": 104,
      "outputs": [
        {
          "output_type": "stream",
          "name": "stdout",
          "text": [
            "This is the message from the fun3\n"
          ]
        }
      ]
    },
    {
      "cell_type": "code",
      "source": [],
      "metadata": {
        "id": "UN6vSsb9g_Fs"
      },
      "execution_count": null,
      "outputs": []
    }
  ]
}