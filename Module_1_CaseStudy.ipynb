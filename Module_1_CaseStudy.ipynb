{
  "nbformat": 4,
  "nbformat_minor": 0,
  "metadata": {
    "colab": {
      "provenance": [],
      "authorship_tag": "ABX9TyM+AvBATkKDh9CJ8bu3yw/g",
      "include_colab_link": true
    },
    "kernelspec": {
      "name": "python3",
      "display_name": "Python 3"
    },
    "language_info": {
      "name": "python"
    }
  },
  "cells": [
    {
      "cell_type": "markdown",
      "metadata": {
        "id": "view-in-github",
        "colab_type": "text"
      },
      "source": [
        "<a href=\"https://colab.research.google.com/github/tdeepakb/Deepak_Python_project/blob/master/Module_1_CaseStudy.ipynb\" target=\"_parent\"><img src=\"https://colab.research.google.com/assets/colab-badge.svg\" alt=\"Open In Colab\"/></a>"
      ]
    },
    {
      "cell_type": "code",
      "execution_count": null,
      "metadata": {
        "id": "5pQboAVyp5of"
      },
      "outputs": [],
      "source": []
    },
    {
      "cell_type": "markdown",
      "source": [
        "Case Study- 1"
      ],
      "metadata": {
        "id": "GgdsqGyMqxID"
      }
    },
    {
      "cell_type": "markdown",
      "source": [
        "1. Create a list containing squares of numbers from 1 to 10 (HINT: use List\n",
        "Comprehension).\n",
        "2. Write a function to check if the year number is a leap year.\n",
        "3. Write a function to take an array and return another array that contains the\n",
        "members of the first array that are even.\n",
        "4. Write a function that takes 2 arrays and prints the members of the first\n",
        "array that are present in the second array. (HINT: use Membership\n",
        "Comprehension)"
      ],
      "metadata": {
        "id": "VapgKj6AqvSA"
      }
    },
    {
      "cell_type": "code",
      "source": [
        "#1\n",
        "squares = [x**2 for x in range(1,11)]\n",
        "print(squares)"
      ],
      "metadata": {
        "colab": {
          "base_uri": "https://localhost:8080/"
        },
        "id": "2IN4l7CqqwJV",
        "outputId": "829dc536-1b55-47a3-fdf8-4cc2434873b8"
      },
      "execution_count": 2,
      "outputs": [
        {
          "output_type": "stream",
          "name": "stdout",
          "text": [
            "[1, 4, 9, 16, 25, 36, 49, 64, 81, 100]\n"
          ]
        }
      ]
    },
    {
      "cell_type": "code",
      "source": [
        "#2\n",
        "def leap_year(year):\n",
        "  if (year % 4 == 0 and year % 100 != 0) or (year % 400 == 0):\n",
        "    return True\n",
        "  return False"
      ],
      "metadata": {
        "id": "ld3_UlKZrA5O"
      },
      "execution_count": 3,
      "outputs": []
    },
    {
      "cell_type": "code",
      "source": [
        "leap_year(2025)"
      ],
      "metadata": {
        "colab": {
          "base_uri": "https://localhost:8080/"
        },
        "id": "idkuXL4mrtXp",
        "outputId": "92da22ed-89ab-4ffd-f3bf-d72001ab3cff"
      },
      "execution_count": 4,
      "outputs": [
        {
          "output_type": "execute_result",
          "data": {
            "text/plain": [
              "False"
            ]
          },
          "metadata": {},
          "execution_count": 4
        }
      ]
    },
    {
      "cell_type": "code",
      "source": [
        "leap_year(2024)"
      ],
      "metadata": {
        "colab": {
          "base_uri": "https://localhost:8080/"
        },
        "id": "C2HBtem3rw60",
        "outputId": "7182a667-c76f-4162-b7bf-144806718acd"
      },
      "execution_count": 5,
      "outputs": [
        {
          "output_type": "execute_result",
          "data": {
            "text/plain": [
              "True"
            ]
          },
          "metadata": {},
          "execution_count": 5
        }
      ]
    },
    {
      "cell_type": "code",
      "source": [
        "# 3\n",
        "def even_num(arr):\n",
        "  return [x for x in arr if x % 2 == 0]\n",
        ""
      ],
      "metadata": {
        "id": "RXbDIYW7r0lF"
      },
      "execution_count": 6,
      "outputs": []
    },
    {
      "cell_type": "code",
      "source": [
        "num = [1,2,3,4,5]\n",
        "even_num(num)"
      ],
      "metadata": {
        "colab": {
          "base_uri": "https://localhost:8080/"
        },
        "id": "ixt2PpMnsW4W",
        "outputId": "8823e5df-2ca4-4c21-d1d4-ee1e7a67fde6"
      },
      "execution_count": 9,
      "outputs": [
        {
          "output_type": "execute_result",
          "data": {
            "text/plain": [
              "[2, 4]"
            ]
          },
          "metadata": {},
          "execution_count": 9
        }
      ]
    },
    {
      "cell_type": "code",
      "source": [
        "#4\n",
        "def find_element(arr1, arr2):\n",
        "  common_element = [x for x in arr1 if x in arr2]\n",
        "  print(common_element)"
      ],
      "metadata": {
        "id": "GxcFCbL1ss-z"
      },
      "execution_count": 10,
      "outputs": []
    },
    {
      "cell_type": "code",
      "source": [
        "arr1 = [1,2,3,4]\n",
        "arr2 = [3,4,5,6]\n",
        "find_element(arr1,arr2)"
      ],
      "metadata": {
        "colab": {
          "base_uri": "https://localhost:8080/"
        },
        "id": "-BIm1W9Rtb0x",
        "outputId": "7ac13f7b-13a9-47ac-a91e-5f295b231bfc"
      },
      "execution_count": 11,
      "outputs": [
        {
          "output_type": "stream",
          "name": "stdout",
          "text": [
            "[3, 4]\n"
          ]
        }
      ]
    },
    {
      "cell_type": "code",
      "source": [],
      "metadata": {
        "id": "yxOahsE5trXt"
      },
      "execution_count": null,
      "outputs": []
    },
    {
      "cell_type": "code",
      "source": [],
      "metadata": {
        "id": "tWt9rvZgt8hi"
      },
      "execution_count": null,
      "outputs": []
    },
    {
      "cell_type": "markdown",
      "source": [
        "Case Study:- 2"
      ],
      "metadata": {
        "id": "AY7u2rmLt9RQ"
      }
    },
    {
      "cell_type": "markdown",
      "source": [
        "1. Create 1st tuple with values -> (10, 20, 30), 2nd tuple with values -> (40,\n",
        "50, 60):\n",
        "a. Concatenate the two tuples and store it in “t_combine”\n",
        "b. Repeat the elements of “t_combine” 3 times\n",
        "c. Access the 3rd element from “t_combine”\n",
        "d. Access the first three elements from “t_combine”\n",
        "e. Access the last three elements from “t_combine”\n",
        "2. Create a list ‘my_list’ with these elements:\n",
        "a. First element is a tuple with values 1, 2, 3\n",
        "b. Second element is a tuple with values “a”, “b”, “c”\n",
        "c. Third element is a tuple with values True, False\n",
        "3. Append a new tuple – (1, ‘a’, True) to ‘my_list’:\n",
        "a. Append a new list – *“sparta”, 123+ to my_list\n",
        "4. Create a dictionary ‘fruit’ where:\n",
        "a. The first key is ‘Fruit’ and the values are (“Apple”, “Banana”, “Mango”,\n",
        "“Guava”)\n",
        "b. The second key is ‘Cost’ and the values are (85, 54, 120, 70)\n",
        "c. Extract all the keys from ‘fruit’\n",
        "d. Extract all the values from ‘fruit’\n",
        "5. Create a set named ‘my_set’ with values (1, 1, “a”, “a”, True, True) and\n",
        "print the result.\n"
      ],
      "metadata": {
        "id": "rXE860W8uBgA"
      }
    },
    {
      "cell_type": "code",
      "source": [
        "tuple_1 = (10,20,30)\n",
        "tuple_2 = (40,50,60)"
      ],
      "metadata": {
        "id": "d1SLUxa7uAUJ"
      },
      "execution_count": 12,
      "outputs": []
    },
    {
      "cell_type": "code",
      "source": [
        "t_combine = tuple_1+tuple_2"
      ],
      "metadata": {
        "id": "GpCIfIuZuSBR"
      },
      "execution_count": 13,
      "outputs": []
    },
    {
      "cell_type": "code",
      "source": [
        "t_combine"
      ],
      "metadata": {
        "colab": {
          "base_uri": "https://localhost:8080/"
        },
        "id": "RvZ2cpJ3u_A1",
        "outputId": "30acfe14-a173-43c1-f0fa-1e32518504d6"
      },
      "execution_count": 14,
      "outputs": [
        {
          "output_type": "execute_result",
          "data": {
            "text/plain": [
              "(10, 20, 30, 40, 50, 60)"
            ]
          },
          "metadata": {},
          "execution_count": 14
        }
      ]
    },
    {
      "cell_type": "code",
      "source": [
        "t_combine_3t = t_combine * 3\n",
        "t_combine_3t"
      ],
      "metadata": {
        "colab": {
          "base_uri": "https://localhost:8080/"
        },
        "id": "kXbNcCOdvA69",
        "outputId": "d2c516b3-721c-42ed-c27a-f536d88ff9b5"
      },
      "execution_count": 16,
      "outputs": [
        {
          "output_type": "execute_result",
          "data": {
            "text/plain": [
              "(10, 20, 30, 40, 50, 60, 10, 20, 30, 40, 50, 60, 10, 20, 30, 40, 50, 60)"
            ]
          },
          "metadata": {},
          "execution_count": 16
        }
      ]
    },
    {
      "cell_type": "code",
      "source": [
        "#2"
      ],
      "metadata": {
        "id": "ph0xKWhgvLPU"
      },
      "execution_count": null,
      "outputs": []
    },
    {
      "cell_type": "markdown",
      "source": [
        "2. Create a list ‘my_list’ with these elements: a. First element is a tuple with values 1, 2, 3 b. Second element is a tuple with values “a”, “b”, “c” c. Third element is a tuple with values True, False\n",
        "3. Append a new tuple – (1, ‘a’, True) to ‘my_list’: a. Append a new list"
      ],
      "metadata": {
        "id": "fpqcvxMdwO6Q"
      }
    },
    {
      "cell_type": "code",
      "source": [
        "my_list = [(1,2,3),('a','b','c'),(True,False)]"
      ],
      "metadata": {
        "id": "f5-U7QdlwUuP"
      },
      "execution_count": 17,
      "outputs": []
    },
    {
      "cell_type": "code",
      "source": [
        "new_tuple = (1, 'a', True)"
      ],
      "metadata": {
        "id": "OPB11JDTwnvs"
      },
      "execution_count": 18,
      "outputs": []
    },
    {
      "cell_type": "code",
      "source": [
        "new_list = my_list.append(new_tuple)"
      ],
      "metadata": {
        "id": "SgTlJUsjw41g"
      },
      "execution_count": 25,
      "outputs": []
    },
    {
      "cell_type": "code",
      "source": [
        "print(my_list)"
      ],
      "metadata": {
        "colab": {
          "base_uri": "https://localhost:8080/"
        },
        "id": "zCROKFb0xED_",
        "outputId": "b76f252f-956c-49cb-f276-91c0c6f4dbfa"
      },
      "execution_count": 24,
      "outputs": [
        {
          "output_type": "stream",
          "name": "stdout",
          "text": [
            "[(1, 2, 3), ('a', 'b', 'c'), (True, False), (1, 'a', True)]\n"
          ]
        }
      ]
    },
    {
      "cell_type": "code",
      "source": [],
      "metadata": {
        "id": "n7cLclVHxFxN"
      },
      "execution_count": null,
      "outputs": []
    },
    {
      "cell_type": "markdown",
      "source": [
        "4. Create a dictionary ‘fruit’ where: a. The first key is ‘Fruit’ and the values are (“Apple”, “Banana”, “Mango”, “Guava”) b. The second key is ‘Cost’ and the values are (85, 54, 120, 70) c. Extract all the keys from ‘fruit’ d. Extract all the values from ‘fruit’"
      ],
      "metadata": {
        "id": "EpxSP2NOyGpR"
      }
    },
    {
      "cell_type": "code",
      "source": [
        "fruit = {\n",
        "    'Fruit': ['Apple','Banana','Mango','Guava'],\n",
        "    'Cost': ['85','54','120','70']\n",
        "}"
      ],
      "metadata": {
        "id": "2EH3nma_yH5U"
      },
      "execution_count": 27,
      "outputs": []
    },
    {
      "cell_type": "code",
      "source": [
        "fruit"
      ],
      "metadata": {
        "colab": {
          "base_uri": "https://localhost:8080/"
        },
        "id": "6DaNNPK3yuSg",
        "outputId": "562380f8-e9c4-4b46-ec2a-b3addad29305"
      },
      "execution_count": 28,
      "outputs": [
        {
          "output_type": "execute_result",
          "data": {
            "text/plain": [
              "{'Fruit': ['Apple', 'Banana', 'Mango', 'Guava'],\n",
              " 'Cost': ['85', '54', '120', '70']}"
            ]
          },
          "metadata": {},
          "execution_count": 28
        }
      ]
    },
    {
      "cell_type": "code",
      "source": [
        "print(fruit.keys())"
      ],
      "metadata": {
        "colab": {
          "base_uri": "https://localhost:8080/"
        },
        "id": "9BBB-7x0y43n",
        "outputId": "24a16c57-0e2e-4097-ef7f-8cc302fe00fe"
      },
      "execution_count": 33,
      "outputs": [
        {
          "output_type": "stream",
          "name": "stdout",
          "text": [
            "dict_keys(['Fruit', 'Cost'])\n"
          ]
        }
      ]
    },
    {
      "cell_type": "code",
      "source": [
        "print(fruit.values())"
      ],
      "metadata": {
        "colab": {
          "base_uri": "https://localhost:8080/"
        },
        "id": "GKKbjqOPy8yt",
        "outputId": "36ee23fe-878f-43a2-e4bb-36bb2ce7a8ee"
      },
      "execution_count": 34,
      "outputs": [
        {
          "output_type": "stream",
          "name": "stdout",
          "text": [
            "dict_values([['Apple', 'Banana', 'Mango', 'Guava'], ['85', '54', '120', '70']])\n"
          ]
        }
      ]
    },
    {
      "cell_type": "code",
      "source": [],
      "metadata": {
        "id": "amu05c8xzIlQ"
      },
      "execution_count": 35,
      "outputs": []
    },
    {
      "cell_type": "code",
      "source": [],
      "metadata": {
        "id": "MI4SeOAIzR_j"
      },
      "execution_count": null,
      "outputs": []
    },
    {
      "cell_type": "markdown",
      "source": [
        "5. Create a set named ‘my_set’ with values (1, 1, “a”, “a”, True, True) and print the result."
      ],
      "metadata": {
        "id": "0NbcW2LDzgDx"
      }
    },
    {
      "cell_type": "code",
      "source": [
        "my_set = {1,1,'a','a',True,True}"
      ],
      "metadata": {
        "id": "4nOjSPbLzgqZ"
      },
      "execution_count": 41,
      "outputs": []
    },
    {
      "cell_type": "code",
      "source": [
        "print(my_set)"
      ],
      "metadata": {
        "colab": {
          "base_uri": "https://localhost:8080/"
        },
        "id": "bCe3evKAzwpQ",
        "outputId": "0cf79d51-88fe-414a-8beb-e0264dba930b"
      },
      "execution_count": 40,
      "outputs": [
        {
          "output_type": "stream",
          "name": "stdout",
          "text": [
            "{1, 'a'}\n"
          ]
        }
      ]
    },
    {
      "cell_type": "code",
      "source": [],
      "metadata": {
        "id": "IRVgw_YvzyY8"
      },
      "execution_count": null,
      "outputs": []
    }
  ]
}