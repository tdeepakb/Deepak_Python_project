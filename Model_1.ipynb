{
  "nbformat": 4,
  "nbformat_minor": 0,
  "metadata": {
    "colab": {
      "provenance": [],
      "authorship_tag": "ABX9TyOstOeTOtY9oWi/wFJNeQFC",
      "include_colab_link": true
    },
    "kernelspec": {
      "name": "python3",
      "display_name": "Python 3"
    },
    "language_info": {
      "name": "python"
    }
  },
  "cells": [
    {
      "cell_type": "markdown",
      "metadata": {
        "id": "view-in-github",
        "colab_type": "text"
      },
      "source": [
        "<a href=\"https://colab.research.google.com/github/tdeepakb/deep/blob/master/Model_1.ipynb\" target=\"_parent\"><img src=\"https://colab.research.google.com/assets/colab-badge.svg\" alt=\"Open In Colab\"/></a>"
      ]
    },
    {
      "cell_type": "code",
      "execution_count": 1,
      "metadata": {
        "id": "SNki_L9qD6t6"
      },
      "outputs": [],
      "source": []
    },
    {
      "cell_type": "code",
      "source": [],
      "metadata": {
        "id": "IIG_-cNXEDBn"
      },
      "execution_count": null,
      "outputs": []
    },
    {
      "cell_type": "markdown",
      "source": [
        "Assignment 1\n",
        "\n",
        " 1. Input the values of a and b as 10 and 20 respectively. Now check if a is\n",
        "greater or b is greater using if condition. Think about all the edge cases,\n",
        "and print the statements accordingly"
      ],
      "metadata": {
        "id": "6ksG0CEaEJjX"
      }
    },
    {
      "cell_type": "code",
      "source": [
        "a = 10\n",
        "b = 20\n",
        "if a>b:\n",
        "  print('a is greater ', a)\n",
        "else:\n",
        "  print('b is greater ', b)"
      ],
      "metadata": {
        "colab": {
          "base_uri": "https://localhost:8080/"
        },
        "id": "fBgKfmNMERxT",
        "outputId": "a5b0de8f-338c-40c2-bfe6-fdb11abcc4ff"
      },
      "execution_count": 2,
      "outputs": [
        {
          "output_type": "stream",
          "name": "stdout",
          "text": [
            "b is greater  20\n"
          ]
        }
      ]
    },
    {
      "cell_type": "code",
      "source": [
        "a = int(input('enter a'))\n",
        "b = int(input('enter b'))\n",
        "if a>b:\n",
        "  print('a is greater ', a)\n",
        "else:\n",
        "  print('b is greater ', b)"
      ],
      "metadata": {
        "colab": {
          "base_uri": "https://localhost:8080/"
        },
        "id": "mTm8e-JIExof",
        "outputId": "ca49c5f5-a04c-44a2-e34a-e9347ea7ecf6"
      },
      "execution_count": 3,
      "outputs": [
        {
          "output_type": "stream",
          "name": "stdout",
          "text": [
            "enter a10\n",
            "enter b20\n",
            "b is greater  20\n"
          ]
        }
      ]
    },
    {
      "cell_type": "code",
      "source": [],
      "metadata": {
        "id": "qtKia-1AFMfm"
      },
      "execution_count": null,
      "outputs": []
    },
    {
      "cell_type": "markdown",
      "source": [
        "ASSIGNMENT- 2"
      ],
      "metadata": {
        "id": "Kv19qMB0FZft"
      }
    },
    {
      "cell_type": "markdown",
      "source": [
        "Take three user inputs and print the greatest number from those inputs\n",
        "using if-else condition. Edge cases, if any, should also be handled."
      ],
      "metadata": {
        "id": "IibpJEQDFkcg"
      }
    },
    {
      "cell_type": "code",
      "source": [
        "num1 = int(input('enter num1'))\n",
        "num2 = int(input('enter num2'))\n",
        "num3 = int(input('enter num3'))\n",
        "if num1>num2 and num1>num3:\n",
        "  print('num1 is greater: ',num1)\n",
        "\n",
        "elif num2>num1 and num2>num3:\n",
        "  print('num2 is greater ', num2)\n",
        "\n",
        "else:\n",
        "  print('num3 is greater ',num3)"
      ],
      "metadata": {
        "colab": {
          "base_uri": "https://localhost:8080/"
        },
        "id": "cmQXxkmdFcls",
        "outputId": "f5368961-3b1f-482e-9526-629a0659ad0f"
      },
      "execution_count": 5,
      "outputs": [
        {
          "output_type": "stream",
          "name": "stdout",
          "text": [
            "enter num15\n",
            "enter num23\n",
            "enter num38\n",
            "num3 is greater  8\n"
          ]
        }
      ]
    },
    {
      "cell_type": "code",
      "source": [],
      "metadata": {
        "id": "gxZrF2wSGWme"
      },
      "execution_count": null,
      "outputs": []
    },
    {
      "cell_type": "markdown",
      "source": [
        "Assignment- 3"
      ],
      "metadata": {
        "id": "Ca1l_xz_G7sv"
      }
    },
    {
      "cell_type": "markdown",
      "source": [
        "1. Print the numbers from 1 to 10 using while loop."
      ],
      "metadata": {
        "id": "idCgmDVTG_LM"
      }
    },
    {
      "cell_type": "code",
      "source": [
        "counter = 0\n",
        "while counter<11:\n",
        "  print(counter)\n",
        "  counter +=1"
      ],
      "metadata": {
        "colab": {
          "base_uri": "https://localhost:8080/"
        },
        "id": "6JppjR5cG-TK",
        "outputId": "8fece088-136c-4c67-c0a4-0835264609d8"
      },
      "execution_count": 6,
      "outputs": [
        {
          "output_type": "stream",
          "name": "stdout",
          "text": [
            "0\n",
            "1\n",
            "2\n",
            "3\n",
            "4\n",
            "5\n",
            "6\n",
            "7\n",
            "8\n",
            "9\n",
            "10\n"
          ]
        }
      ]
    },
    {
      "cell_type": "code",
      "source": [],
      "metadata": {
        "id": "N9YklIW3HXrc"
      },
      "execution_count": null,
      "outputs": []
    },
    {
      "cell_type": "markdown",
      "source": [
        "Assignment- 4"
      ],
      "metadata": {
        "id": "Hv6wFWLBHZKl"
      }
    },
    {
      "cell_type": "code",
      "source": [],
      "metadata": {
        "id": "0At_pgxgHchC"
      },
      "execution_count": null,
      "outputs": []
    },
    {
      "cell_type": "markdown",
      "source": [
        "1. Create a list that has 10, 23, 4, 26, 4, 75, 24, 54 values and with the help\n",
        "of while loop fetch the even numbers and print the numbers."
      ],
      "metadata": {
        "id": "vG4BVl6pHpVI"
      }
    },
    {
      "cell_type": "code",
      "source": [
        "def search_even(li):\n",
        "  len_list = len(li)\n",
        "  for x in range(len_list):\n",
        "    if li[x]%2==0:\n",
        "      print('even no ',x)"
      ],
      "metadata": {
        "id": "U9jY_g3mHqta"
      },
      "execution_count": 7,
      "outputs": []
    },
    {
      "cell_type": "code",
      "source": [
        "li = [10,23,4,26,4,75,24,54]\n",
        "search_even(li)"
      ],
      "metadata": {
        "colab": {
          "base_uri": "https://localhost:8080/"
        },
        "id": "BpZQaW1dISCW",
        "outputId": "a6340509-6775-4561-b719-5f264c657cf7"
      },
      "execution_count": 8,
      "outputs": [
        {
          "output_type": "stream",
          "name": "stdout",
          "text": [
            "even no  0\n",
            "even no  2\n",
            "even no  3\n",
            "even no  4\n",
            "even no  6\n",
            "even no  7\n"
          ]
        }
      ]
    },
    {
      "cell_type": "code",
      "source": [],
      "metadata": {
        "id": "0ZvciEU6IfFa"
      },
      "execution_count": null,
      "outputs": []
    },
    {
      "cell_type": "markdown",
      "source": [
        "Assignment- 5"
      ],
      "metadata": {
        "id": "m5ZqLb7WIxrM"
      }
    },
    {
      "cell_type": "code",
      "source": [],
      "metadata": {
        "id": "JY2q-Um1IzYK"
      },
      "execution_count": null,
      "outputs": []
    },
    {
      "cell_type": "markdown",
      "source": [
        "1. Create an array that has user defined inputs and with the help of for loop,\n",
        "fetch all the prime numbers and print the numbers."
      ],
      "metadata": {
        "id": "4tYTYnVwI2pR"
      }
    },
    {
      "cell_type": "code",
      "source": [
        "num = int(input('enter num'))\n",
        "\n",
        "for x in range(2,num):\n",
        "  if num%x==0:\n",
        "    print('Not a Prime no')\n",
        "    break\n",
        "\n",
        "else:\n",
        "  print('Prime no')"
      ],
      "metadata": {
        "colab": {
          "base_uri": "https://localhost:8080/"
        },
        "id": "jni1tuJRI3gi",
        "outputId": "d6c1b039-ce38-45ee-fcd0-65aad9a06837"
      },
      "execution_count": 14,
      "outputs": [
        {
          "output_type": "stream",
          "name": "stdout",
          "text": [
            "enter num8\n",
            "Not a Prime no\n"
          ]
        }
      ]
    },
    {
      "cell_type": "code",
      "source": [],
      "metadata": {
        "id": "vZem3qGOJWO9"
      },
      "execution_count": null,
      "outputs": []
    }
  ]
}