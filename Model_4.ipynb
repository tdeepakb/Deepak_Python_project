{
  "nbformat": 4,
  "nbformat_minor": 0,
  "metadata": {
    "colab": {
      "provenance": [],
      "authorship_tag": "ABX9TyMIOzLWdOIYVIM1aRa4/jmV",
      "include_colab_link": true
    },
    "kernelspec": {
      "name": "python3",
      "display_name": "Python 3"
    },
    "language_info": {
      "name": "python"
    }
  },
  "cells": [
    {
      "cell_type": "markdown",
      "metadata": {
        "id": "view-in-github",
        "colab_type": "text"
      },
      "source": [
        "<a href=\"https://colab.research.google.com/github/tdeepakb/Deepak_Python_project/blob/master/Model_4.ipynb\" target=\"_parent\"><img src=\"https://colab.research.google.com/assets/colab-badge.svg\" alt=\"Open In Colab\"/></a>"
      ]
    },
    {
      "cell_type": "markdown",
      "source": [
        "Assignment-1"
      ],
      "metadata": {
        "id": "C9d-sF5i2j0P"
      }
    },
    {
      "cell_type": "markdown",
      "source": [
        "1. Create a list named ‘myList’ that has the following elements: 10, 20, 30,\n",
        "‘apple’, True, 8.10:\n",
        "a. Now in the ‘myList’, append these values: 30, 40\n",
        "b. After that, reverse the elements of the ‘myList’ and store that in\n",
        "‘reversedList"
      ],
      "metadata": {
        "id": "O9g3jbyl2DCH"
      }
    },
    {
      "cell_type": "code",
      "execution_count": null,
      "metadata": {
        "id": "eFWUylQn1YAp"
      },
      "outputs": [],
      "source": [
        "my_list = [10,20,30,'apple',True,8.10]"
      ]
    },
    {
      "cell_type": "code",
      "source": [
        "my_list.append(30)"
      ],
      "metadata": {
        "id": "Y7MR9qRV1voJ"
      },
      "execution_count": null,
      "outputs": []
    },
    {
      "cell_type": "code",
      "source": [
        "my_list.append(40)"
      ],
      "metadata": {
        "id": "IXgT0WDL1y-N"
      },
      "execution_count": null,
      "outputs": []
    },
    {
      "cell_type": "code",
      "source": [
        "my_list"
      ],
      "metadata": {
        "colab": {
          "base_uri": "https://localhost:8080/"
        },
        "id": "GEIxFaVY1-Dk",
        "outputId": "9b4b0b86-0f3e-4948-a7a1-7e197f0c09ac"
      },
      "execution_count": null,
      "outputs": [
        {
          "output_type": "execute_result",
          "data": {
            "text/plain": [
              "[10, 20, 30, 'apple', True, 8.1, 30, 40]"
            ]
          },
          "metadata": {},
          "execution_count": 4
        }
      ]
    },
    {
      "cell_type": "code",
      "source": [
        "reversed_List = my_list[::-1]"
      ],
      "metadata": {
        "id": "bYh5sWc12H5U"
      },
      "execution_count": null,
      "outputs": []
    },
    {
      "cell_type": "code",
      "source": [
        "print(reversed_List)"
      ],
      "metadata": {
        "colab": {
          "base_uri": "https://localhost:8080/"
        },
        "id": "4GrjgHmG2X19",
        "outputId": "0e3289aa-0d1e-4f50-e3a4-d430db67a992"
      },
      "execution_count": null,
      "outputs": [
        {
          "output_type": "stream",
          "name": "stdout",
          "text": [
            "[40, 30, 8.1, True, 'apple', 30, 20, 10]\n"
          ]
        }
      ]
    },
    {
      "cell_type": "code",
      "source": [],
      "metadata": {
        "id": "_vpmY7Fe2Z6t"
      },
      "execution_count": null,
      "outputs": []
    },
    {
      "cell_type": "markdown",
      "source": [
        "2. Create a dictionary with key values as 1, 2, 3 and the values as ‘data’,\n",
        "‘information’ and ‘text’:\n",
        "a. After that, eliminate the ‘text’ value from the dictionary\n",
        "b. Add ‘features’ in the dictionary\n",
        "c. Fetch the ‘data’ element from the dictionary and display it in the output"
      ],
      "metadata": {
        "id": "bkOUePjh2ho-"
      }
    },
    {
      "cell_type": "code",
      "source": [
        "dict = {\n",
        "    'key': 'values',\n",
        "    '1': 'data',\n",
        "    '2': 'information',\n",
        "    '3': 'text'\n",
        "}\n",
        "print(dict)"
      ],
      "metadata": {
        "colab": {
          "base_uri": "https://localhost:8080/"
        },
        "id": "vxoLuuqm2ihE",
        "outputId": "8ca8636b-3aaa-4f37-b483-e2da01d4bada"
      },
      "execution_count": null,
      "outputs": [
        {
          "output_type": "stream",
          "name": "stdout",
          "text": [
            "{'key': 'values', '1': 'data', '2': 'information', '3': 'text'}\n"
          ]
        }
      ]
    },
    {
      "cell_type": "code",
      "source": [
        "del dict['3']"
      ],
      "metadata": {
        "id": "ZMqwVsrb3ObW"
      },
      "execution_count": null,
      "outputs": []
    },
    {
      "cell_type": "code",
      "source": [
        "print(dict)"
      ],
      "metadata": {
        "colab": {
          "base_uri": "https://localhost:8080/"
        },
        "id": "MzZM8avJ3d4U",
        "outputId": "f1ca8f55-3e5b-4ff3-b878-6d94241fd7ea"
      },
      "execution_count": null,
      "outputs": [
        {
          "output_type": "stream",
          "name": "stdout",
          "text": [
            "{'key': 'values', '1': 'data', '2': 'information'}\n"
          ]
        }
      ]
    },
    {
      "cell_type": "code",
      "source": [
        "dict['features'] = 'new_features'"
      ],
      "metadata": {
        "id": "XthkPkUm3l0s"
      },
      "execution_count": null,
      "outputs": []
    },
    {
      "cell_type": "code",
      "source": [
        "print(dict)"
      ],
      "metadata": {
        "colab": {
          "base_uri": "https://localhost:8080/"
        },
        "id": "F4J7XNW73v08",
        "outputId": "d7c8b1d2-43fb-469c-cd1e-84addbb9db57"
      },
      "execution_count": null,
      "outputs": [
        {
          "output_type": "stream",
          "name": "stdout",
          "text": [
            "{'key': 'values', '1': 'data', '2': 'information', 'features': 'new_features'}\n"
          ]
        }
      ]
    },
    {
      "cell_type": "code",
      "source": [
        "print(dict['key'])\n",
        "print(dict['1'])\n",
        "print(dict['2'])\n",
        "print(dict['features'])"
      ],
      "metadata": {
        "colab": {
          "base_uri": "https://localhost:8080/"
        },
        "id": "nDKpI_ae3yzw",
        "outputId": "d4a44435-456f-4a9a-8b30-6b115a16c635"
      },
      "execution_count": null,
      "outputs": [
        {
          "output_type": "stream",
          "name": "stdout",
          "text": [
            "values\n",
            "data\n",
            "information\n",
            "new_features\n"
          ]
        }
      ]
    },
    {
      "cell_type": "code",
      "source": [],
      "metadata": {
        "id": "fjJDfE6c3_5c"
      },
      "execution_count": null,
      "outputs": []
    },
    {
      "cell_type": "markdown",
      "source": [
        "3. Create a tuple and add these elements 1, 2, 3, apple, mango in my_tuple."
      ],
      "metadata": {
        "id": "r3f5OM1q4YXG"
      }
    },
    {
      "cell_type": "code",
      "source": [
        "my_tuple = (1,2,3,'apple','mango')\n",
        "print(my_tuple)"
      ],
      "metadata": {
        "colab": {
          "base_uri": "https://localhost:8080/"
        },
        "id": "Ek32W-cw4ZK7",
        "outputId": "9b631729-a1d4-4092-8187-1383c3706c0d"
      },
      "execution_count": null,
      "outputs": [
        {
          "output_type": "stream",
          "name": "stdout",
          "text": [
            "(1, 2, 3, 'apple', 'mango')\n"
          ]
        }
      ]
    },
    {
      "cell_type": "markdown",
      "source": [
        "4. Create another tuple named numeric_tuple consisting of only integer\n",
        "values 10, 20, 30, 40, 50:\n",
        "\n",
        "a. Find the minimum value from the numeric_tuple\n",
        "b. Concatenate my_tuple with numeric_tuple and store the result in r1\n",
        "c. Duplicate the tuple named my_tuple 2 times and store that in ‘newdupli’"
      ],
      "metadata": {
        "id": "FJfQDhUA4qvV"
      }
    },
    {
      "cell_type": "code",
      "source": [
        "numeric_tuple = (10,20,30,40,50)\n",
        "print(numeric_tuple)"
      ],
      "metadata": {
        "colab": {
          "base_uri": "https://localhost:8080/"
        },
        "id": "wcpXh1sG4hmc",
        "outputId": "88e85428-d0f0-496c-f4ad-b4c98b4ae082"
      },
      "execution_count": null,
      "outputs": [
        {
          "output_type": "stream",
          "name": "stdout",
          "text": [
            "(10, 20, 30, 40, 50)\n"
          ]
        }
      ]
    },
    {
      "cell_type": "code",
      "source": [
        "min(numeric_tuple)"
      ],
      "metadata": {
        "colab": {
          "base_uri": "https://localhost:8080/"
        },
        "id": "CxjEI-KG48ts",
        "outputId": "70f5aef5-6468-4a75-8057-fa13a7b70eac"
      },
      "execution_count": null,
      "outputs": [
        {
          "output_type": "execute_result",
          "data": {
            "text/plain": [
              "10"
            ]
          },
          "metadata": {},
          "execution_count": 20
        }
      ]
    },
    {
      "cell_type": "code",
      "source": [
        "print(my_tuple)\n",
        "print(numeric_tuple)"
      ],
      "metadata": {
        "colab": {
          "base_uri": "https://localhost:8080/"
        },
        "id": "YZY_qbJL5VxT",
        "outputId": "c738d603-ffe3-49f4-f483-38d2c988a1c6"
      },
      "execution_count": null,
      "outputs": [
        {
          "output_type": "stream",
          "name": "stdout",
          "text": [
            "(1, 2, 3, 'apple', 'mango')\n",
            "(10, 20, 30, 40, 50)\n"
          ]
        }
      ]
    },
    {
      "cell_type": "code",
      "source": [
        "# concenate my_tuple & numeric_tuple\n",
        "r1 = my_tuple+numeric_tuple\n",
        "r1"
      ],
      "metadata": {
        "colab": {
          "base_uri": "https://localhost:8080/"
        },
        "id": "yLSmo7n15bMj",
        "outputId": "8a6d788b-c913-41e7-9383-eb4b2ba5d8e4"
      },
      "execution_count": null,
      "outputs": [
        {
          "output_type": "execute_result",
          "data": {
            "text/plain": [
              "(1, 2, 3, 'apple', 'mango', 10, 20, 30, 40, 50)"
            ]
          },
          "metadata": {},
          "execution_count": 24
        }
      ]
    },
    {
      "cell_type": "code",
      "source": [
        "my_dupli= my_tuple * 2\n",
        "my_dupli"
      ],
      "metadata": {
        "id": "5E7_AylP6YpT",
        "colab": {
          "base_uri": "https://localhost:8080/"
        },
        "outputId": "847f3081-c893-4d88-dd05-6227028ebb84"
      },
      "execution_count": 25,
      "outputs": [
        {
          "output_type": "execute_result",
          "data": {
            "text/plain": [
              "(1, 2, 3, 'apple', 'mango', 1, 2, 3, 'apple', 'mango')"
            ]
          },
          "metadata": {},
          "execution_count": 25
        }
      ]
    },
    {
      "cell_type": "code",
      "source": [],
      "metadata": {
        "id": "cb90RTka7TVD"
      },
      "execution_count": null,
      "outputs": []
    },
    {
      "cell_type": "markdown",
      "source": [
        "5. Create 2 sets with the names set1 and set2, where set1 contains\n",
        "{1,2,3,4,5} and set2 contains {2,3,7,6,1}\n",
        "Perform the below operation:\n",
        "a. set1 union set2\n",
        "b. set1 intersection set2\n",
        "c. set1 difference set2"
      ],
      "metadata": {
        "id": "Jxqv0Vxn8Dhk"
      }
    },
    {
      "cell_type": "code",
      "source": [
        "set1 = {1,2,3,4,5}\n",
        "set2 = {2,3,7,6,1}"
      ],
      "metadata": {
        "id": "mu8e1BTA8FzK"
      },
      "execution_count": 26,
      "outputs": []
    },
    {
      "cell_type": "code",
      "source": [
        "set_union = set1.union(set2)\n",
        "set_union"
      ],
      "metadata": {
        "id": "lmBclnDf8WWL",
        "colab": {
          "base_uri": "https://localhost:8080/"
        },
        "outputId": "0c422204-d5ca-4551-d070-1dc7f9e6f955"
      },
      "execution_count": 28,
      "outputs": [
        {
          "output_type": "execute_result",
          "data": {
            "text/plain": [
              "{1, 2, 3, 4, 5, 6, 7}"
            ]
          },
          "metadata": {},
          "execution_count": 28
        }
      ]
    },
    {
      "cell_type": "code",
      "source": [
        "set_inter = set1.intersection(set2)\n",
        "set_inter"
      ],
      "metadata": {
        "id": "SbN8tnj-8nBU",
        "colab": {
          "base_uri": "https://localhost:8080/"
        },
        "outputId": "5818400f-e361-451e-e9f1-6f6e81d567fa"
      },
      "execution_count": 29,
      "outputs": [
        {
          "output_type": "execute_result",
          "data": {
            "text/plain": [
              "{1, 2, 3}"
            ]
          },
          "metadata": {},
          "execution_count": 29
        }
      ]
    },
    {
      "cell_type": "code",
      "source": [
        "set_diff = set1.difference(set2)\n",
        "set_diff"
      ],
      "metadata": {
        "id": "ke1W3hEW8sUj",
        "colab": {
          "base_uri": "https://localhost:8080/"
        },
        "outputId": "eaa7cbab-271b-41e2-a87b-e9336e3ea889"
      },
      "execution_count": 30,
      "outputs": [
        {
          "output_type": "execute_result",
          "data": {
            "text/plain": [
              "{4, 5}"
            ]
          },
          "metadata": {},
          "execution_count": 30
        }
      ]
    },
    {
      "cell_type": "code",
      "source": [],
      "metadata": {
        "id": "XVe15aW98zsq"
      },
      "execution_count": null,
      "outputs": []
    },
    {
      "cell_type": "markdown",
      "source": [
        "Assignment- 2"
      ],
      "metadata": {
        "id": "r05ZE_b1AaQi"
      }
    },
    {
      "cell_type": "code",
      "source": [],
      "metadata": {
        "id": "wxfs7d1fAdMZ"
      },
      "execution_count": null,
      "outputs": []
    },
    {
      "cell_type": "markdown",
      "source": [
        "1. Create a 3x3 matrix array with values ranging from 2 to 10.\n",
        "2. Create a NumPy array having user input values and convert the integer\n",
        "type to the float type of the elements of the array. For instance: Original\n",
        "array [1, 2, 3, 4] Array converted to a float type: [ 1. 2. 3. 4.]\n",
        "3. Write a NumPy program to append values to the end of an array. For\n",
        "instance: Original array: [10, 20, 30] . After that, append values to the end\n",
        "of the array: [10 20 30 40 50 60 70 80 90]\n",
        "4. Create two NumPy arrays and add the elements of both the arrays and\n",
        "store the result in sumArray.\n",
        "5. Create a 3x3 array having values from 10-90 (interval of 10) and store that\n",
        "in array1\n",
        "Perform the following tasks:\n",
        "a. Extract the 1st row from the array\n",
        "b. Extract the last element from the array"
      ],
      "metadata": {
        "id": "9I9gToKLAeJD"
      }
    },
    {
      "cell_type": "code",
      "source": [
        "import numpy as np"
      ],
      "metadata": {
        "id": "37OoJwTWAkkZ"
      },
      "execution_count": 31,
      "outputs": []
    },
    {
      "cell_type": "code",
      "source": [
        "x = np.arange(2,11).reshape(3,3)\n",
        "x"
      ],
      "metadata": {
        "colab": {
          "base_uri": "https://localhost:8080/"
        },
        "id": "x8VU-2B8Ap7C",
        "outputId": "571d2b28-d584-4a09-a37e-a75cb219a21f"
      },
      "execution_count": 32,
      "outputs": [
        {
          "output_type": "execute_result",
          "data": {
            "text/plain": [
              "array([[ 2,  3,  4],\n",
              "       [ 5,  6,  7],\n",
              "       [ 8,  9, 10]])"
            ]
          },
          "metadata": {},
          "execution_count": 32
        }
      ]
    },
    {
      "cell_type": "code",
      "source": [
        "ar1 = np.array([1,2,3,4])"
      ],
      "metadata": {
        "id": "Mw1sLuxtA3R5"
      },
      "execution_count": 42,
      "outputs": []
    },
    {
      "cell_type": "code",
      "source": [
        "ar1"
      ],
      "metadata": {
        "colab": {
          "base_uri": "https://localhost:8080/"
        },
        "id": "JUDRUSsyBLyi",
        "outputId": "6bf48360-2045-4ae8-f7c3-8bbf2c528a11"
      },
      "execution_count": 43,
      "outputs": [
        {
          "output_type": "execute_result",
          "data": {
            "text/plain": [
              "array([1, 2, 3, 4])"
            ]
          },
          "metadata": {},
          "execution_count": 43
        }
      ]
    },
    {
      "cell_type": "code",
      "source": [
        "flt = ar1.astype(float)\n",
        "flt"
      ],
      "metadata": {
        "colab": {
          "base_uri": "https://localhost:8080/"
        },
        "id": "mpAs9_2hBMQ6",
        "outputId": "f1508bd6-8ec0-4b95-bd5c-909850797dfe"
      },
      "execution_count": 44,
      "outputs": [
        {
          "output_type": "execute_result",
          "data": {
            "text/plain": [
              "array([1., 2., 3., 4.])"
            ]
          },
          "metadata": {},
          "execution_count": 44
        }
      ]
    },
    {
      "cell_type": "code",
      "source": [
        "arr1 = np.array([10,20,30])\n",
        "arr2 = np.array([40,50,60,70,80,90])\n",
        "result= np.hstack((arr1,arr2))\n",
        "result"
      ],
      "metadata": {
        "colab": {
          "base_uri": "https://localhost:8080/"
        },
        "id": "kvV6BoJLBUf8",
        "outputId": "999418fa-576a-4864-b120-307672058ad4"
      },
      "execution_count": 46,
      "outputs": [
        {
          "output_type": "execute_result",
          "data": {
            "text/plain": [
              "array([10, 20, 30, 40, 50, 60, 70, 80, 90])"
            ]
          },
          "metadata": {},
          "execution_count": 46
        }
      ]
    },
    {
      "cell_type": "code",
      "source": [
        "ar1 = np.array([2,3,4,5,6])\n",
        "ar2 = np.array([9,8,7,6,5])\n",
        "sumarr= np.add(ar1,ar2)\n",
        "sumarr"
      ],
      "metadata": {
        "colab": {
          "base_uri": "https://localhost:8080/"
        },
        "id": "LzTYw0kjCkf6",
        "outputId": "801c64e2-a3fb-40ff-ed7e-6b7c6e1f8bc5"
      },
      "execution_count": 48,
      "outputs": [
        {
          "output_type": "execute_result",
          "data": {
            "text/plain": [
              "array([11, 11, 11, 11, 11])"
            ]
          },
          "metadata": {},
          "execution_count": 48
        }
      ]
    },
    {
      "cell_type": "code",
      "source": [
        "array1 = np.arange(10, 100, 10).reshape(3, 3)\n",
        "array1"
      ],
      "metadata": {
        "colab": {
          "base_uri": "https://localhost:8080/"
        },
        "id": "UPFDvCKzDBih",
        "outputId": "5fe349e9-7bde-4da3-f01b-d3b04c29b01e"
      },
      "execution_count": 53,
      "outputs": [
        {
          "output_type": "execute_result",
          "data": {
            "text/plain": [
              "array([[10, 20, 30],\n",
              "       [40, 50, 60],\n",
              "       [70, 80, 90]])"
            ]
          },
          "metadata": {},
          "execution_count": 53
        }
      ]
    },
    {
      "cell_type": "code",
      "source": [
        "array1[0]"
      ],
      "metadata": {
        "colab": {
          "base_uri": "https://localhost:8080/"
        },
        "id": "9zq9SQKUDcOV",
        "outputId": "3c199683-368d-4a9e-d916-bed0ceedae1e"
      },
      "execution_count": 54,
      "outputs": [
        {
          "output_type": "execute_result",
          "data": {
            "text/plain": [
              "array([10, 20, 30])"
            ]
          },
          "metadata": {},
          "execution_count": 54
        }
      ]
    },
    {
      "cell_type": "code",
      "source": [
        "array1[2]"
      ],
      "metadata": {
        "colab": {
          "base_uri": "https://localhost:8080/"
        },
        "id": "g5Zq7LqmDvn4",
        "outputId": "b1396f22-e59e-4b37-c8d6-60936cdbeeba"
      },
      "execution_count": 56,
      "outputs": [
        {
          "output_type": "execute_result",
          "data": {
            "text/plain": [
              "array([70, 80, 90])"
            ]
          },
          "metadata": {},
          "execution_count": 56
        }
      ]
    },
    {
      "cell_type": "code",
      "source": [],
      "metadata": {
        "id": "wkLPpUE8DwoQ"
      },
      "execution_count": null,
      "outputs": []
    }
  ]
}